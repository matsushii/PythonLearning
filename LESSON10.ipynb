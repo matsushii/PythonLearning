{
 "cells": [
  {
   "cell_type": "code",
   "execution_count": 3,
   "id": "39746b09",
   "metadata": {},
   "outputs": [
    {
     "name": "stdout",
     "output_type": "stream",
     "text": [
      "1,3 =  [0]\n",
      "1,2 =  [1]\n"
     ]
    }
   ],
   "source": [
    "from sklearn.datasets import make_blobs\n",
    "import pandas as pd\n",
    "\n",
    "X, y = make_blobs(\n",
    "    random_state = 0,\n",
    "    n_features = 2,\n",
    "    n_samples = 300,\n",
    "    centers = 2,\n",
    "    cluster_std = 1\n",
    ")\n",
    "\n",
    "import matplotlib.pyplot as plt\n",
    "%matplotlib inline\n",
    "\n",
    "from sklearn.model_selection import train_test_split\n",
    "\n",
    "X_train, X_test, y_train, y_test = train_test_split(X, y, random_state = 0)\n",
    "\n",
    "from sklearn import svm\n",
    "model = svm.SVC()\n",
    "model.fit(X_train, y_train)\n",
    "\n",
    "pred = model.predict(X_test)\n",
    "\n",
    "df = pd.DataFrame(X_test)\n",
    "df[\"target\"] = pred\n",
    "\n",
    "df0=df[df[\"target\"] == 0]\n",
    "df1=df[df[\"target\"] == 1]\n",
    "\n",
    "# 特徴量が1，3の結果を予測\n",
    "pred = model.predict([[1,3]])\n",
    "print(\"1,3 = \",pred)\n",
    "# 特徴量が1，2の結果を予測\n",
    "pred = model.predict([[1,2]])\n",
    "print(\"1,2 = \",pred)"
   ]
  },
  {
   "cell_type": "code",
   "execution_count": 6,
   "id": "c770fad8",
   "metadata": {},
   "outputs": [
    {
     "data": {
      "image/png": "[encoded data removed]",
      "text/plain": [
       "<Figure size 360x360 with 1 Axes>"
      ]
     },
     "metadata": {
      "needs_background": "light"
     },
     "output_type": "display_data"
    }
   ],
   "source": [
    "plt.figure(figsize=(5,5))\n",
    "plt.scatter(df0[0], df0[1], color =\"b\", alpha = 0.5)\n",
    "plt.scatter(df1[0], df1[1], color =\"r\", alpha = 0.5)\n",
    "# 散布図上の1,3と1,2の位置にXを描画\n",
    "plt.scatter([1], [2], color =\"b\", marker =\"x\", s=300)\n",
    "plt.scatter([1], [3], color =\"r\", marker =\"x\", s=300)\n",
    "plt.title(\"predict\")\n",
    "plt.show()"
   ]
  }
 ],
 "metadata": {
  "kernelspec": {
   "display_name": "Python 3 (ipykernel)",
   "language": "python",
   "name": "python3"
  },
  "language_info": {
   "codemirror_mode": {
    "name": "ipython",
    "version": 3
   },
   "file_extension": ".py",
   "mimetype": "text/x-python",
   "name": "python",
   "nbconvert_exporter": "python",
   "pygments_lexer": "ipython3",
   "version": "3.9.12"
  }
 },
 "nbformat": 4,
 "nbformat_minor": 5
}
